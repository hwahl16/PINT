{
 "cells": [
  {
   "cell_type": "code",
   "execution_count": 1,
   "metadata": {},
   "outputs": [
    {
     "name": "stderr",
     "output_type": "stream",
     "text": [
      "WARNING: AstropyDeprecationWarning: The private astropy._erfa module has been made into its own package, pyerfa, which is a dependency of astropy and can be imported directly using \"import erfa\" [astropy._erfa]\n"
     ]
    }
   ],
   "source": [
    "from __future__ import print_function, division\n",
    "import numpy as np\n",
    "import astropy.units as u\n",
    "from pint.models.timing_model import Component\n",
    "import pint.models.parameter\n",
    "from astropy import log\n",
    "import ephem\n",
    "import pint.observatory\n",
    "import pint.toa\n",
    "import pint.models\n",
    "import pint.fitter\n",
    "import pint.utils\n",
    "from pint.utils import dmxrange\n",
    "import pint.models.dispersion_model\n",
    "import pprint\n",
    "from fractions import Fraction\n",
    "import skyfield\n",
    "import matplotlib.pyplot as plt\n",
    "from astropy.time import Time\n",
    "from astropy import units as u\n",
    "from astropy.coordinates import SkyCoord, get_sun\n",
    "from astropy.visualization import quantity_support\n",
    "from pint.models.timing_model import DelayComponent\n",
    "import pint.models.parameter\n",
    "\n",
    "from __future__ import division\n",
    "\n",
    "quantity_support()\n",
    "from array import array"
   ]
  },
  {
   "cell_type": "code",
   "execution_count": 2,
   "metadata": {},
   "outputs": [
    {
     "name": "stdout",
     "output_type": "stream",
     "text": [
      "INFO: Applying clock corrections (include_GPS = True, include_BIPM = True) [pint.toa]\n",
      "INFO: Observatory arecibo, loading clock file \n",
      "\t/Library/Frameworks/Python.framework/Versions/3.8/lib/python3.8/site-packages/pint/datafiles/time.dat [pint.observatory.topo_obs]\n",
      "INFO: Applying observatory clock corrections. [pint.observatory.topo_obs]\n",
      "INFO: Applying GPS to UTC clock correction (~few nanoseconds) [pint.observatory.topo_obs]\n",
      "INFO: Observatory arecibo, loading GPS clock file \n",
      "\t/Library/Frameworks/Python.framework/Versions/3.8/lib/python3.8/site-packages/pint/datafiles/gps2utc.clk [pint.observatory.topo_obs]\n",
      "INFO: Applying TT(TAI) to TT(BIPM) clock correction (~27 us) [pint.observatory.topo_obs]\n",
      "INFO: Observatory arecibo, loading BIPM clock file \n",
      "\t/Library/Frameworks/Python.framework/Versions/3.8/lib/python3.8/site-packages/pint/datafiles/tai2tt_bipm2015.clk [pint.observatory.topo_obs]\n",
      "INFO: Computing TDB columns. [pint.toa]\n",
      "INFO: Doing astropy mode TDB conversion [pint.observatory]\n",
      "INFO: Computing PosVels of observatories and Earth, using DE421 [pint.toa]\n"
     ]
    },
    {
     "name": "stderr",
     "output_type": "stream",
     "text": [
      "WARNING: No ephemeris provided to TOAs object or compute_TDBs. Using DE421 [pint.toa]\n"
     ]
    },
    {
     "name": "stdout",
     "output_type": "stream",
     "text": [
      "INFO: Set solar system ephemeris to link:\n",
      "\tftp://ssd.jpl.nasa.gov/pub/eph/planets/bsp/de421.bsp [pint.solar_system_ephemerides]\n",
      "INFO: Pickling TOAs. [pint.toa]\n"
     ]
    },
    {
     "name": "stderr",
     "output_type": "stream",
     "text": [
      "WARNING: EPHVER 5 does nothing in PINT [pint.models.timing_model]\n",
      "WARNING: More than one component made use of par file line 'JUMP -chanid asp_424 7.6456527699426e-07 1': [('PhaseJump', 'JUMP1'), ('PhaseJump', 'JUMP2'), ('PhaseJump', 'JUMP3'), ('PhaseJump', 'JUMP4'), ('PhaseJump', 'JUMP5'), ('PhaseJump', 'JUMP6'), ('PhaseJump', 'JUMP7'), ('PhaseJump', 'JUMP8'), ('PhaseJump', 'JUMP9'), ('PhaseJump', 'JUMP10'), ('PhaseJump', 'JUMP11'), ('PhaseJump', 'JUMP12'), ('PhaseJump', 'JUMP13'), ('PhaseJump', 'JUMP14'), ('PhaseJump', 'JUMP15'), ('PhaseJump', 'JUMP16'), ('PhaseJump', 'JUMP17'), ('PhaseJump', 'JUMP18'), ('PhaseJump', 'JUMP19'), ('PhaseJump', 'JUMP20'), ('PhaseJump', 'JUMP21')] [pint.models.timing_model]\n"
     ]
    },
    {
     "data": {
      "text/plain": [
       "15146.9885449523521945"
      ]
     },
     "execution_count": 2,
     "metadata": {},
     "output_type": "execute_result"
    }
   ],
   "source": [
    "#Get your TOAs from the tim file (in this case from pulsar B1855)\n",
    "#Put these TOAs into a PINT object so we can work with them\n",
    "ts1855 = pint.toa.get_TOAs(\"B1855+09_NANOGrav_dfg+12.tim\", usepickle=True)\n",
    "\n",
    "#Take the pulsar timing model from the par file and put it into a PINT object\n",
    "m1855 = pint.models.get_model(\"B1855+09_NANOGrav_dfg+12_TAI.par\")\n",
    "\n",
    "#Remove a component called \"DispersionDMX\" from the \n",
    "m1855.remove_component(\"DispersionDMX\")\n",
    "\n",
    "glsfit = pint.fitter.GLSFitter(toas=ts1855, model=m1855)\n",
    "glsfit.fit_toas(maxiter=1)\n",
    "#glsfit.print_summary()"
   ]
  },
  {
   "cell_type": "code",
   "execution_count": 3,
   "metadata": {},
   "outputs": [
    {
     "name": "stdout",
     "output_type": "stream",
     "text": [
      "Number of TOAs:  702\n",
      "Number of commands:  1\n",
      "Number of observatories:  1 ['arecibo']\n",
      "MJD span:  53358.727 to 55108.922\n",
      "Date span: 2004-12-19 17:27:32.966478287 to 2009-10-04 22:07:33.664872525\n",
      "arecibo TOAs (702):\n",
      "  Min freq:      420.000 MHz \n",
      "  Max freq:      1442.000 MHz \n",
      "  Min error:     0.03 us\n",
      "  Max error:     82 us\n",
      "  Median error:  1.2 us\n",
      "\n"
     ]
    }
   ],
   "source": [
    "ts1855.print_summary()"
   ]
  },
  {
   "cell_type": "code",
   "execution_count": 4,
   "metadata": {},
   "outputs": [],
   "source": [
    "def dmx_trial_receiver_and_frequency(times, verbose = True):    \n",
    "    MJDs = times.get_mjds() \n",
    "    freqs = times.table[\"freq\"].quantity\n",
    "    divide_freq = ((0.5*(np.max(freqs) - np.min(freqs)))) \n",
    "    DMXs = []\n",
    "    receiver = np.array(times.get_flag_value(\"be\"))\n",
    "    binwidth = []\n",
    "    #different receivers require different binwidths\n",
    "    for r in receiver:\n",
    "        if r in ['ASP','AO','PUPPI']:\n",
    "            #print(r)\n",
    "            binwidth.append(0.5) #unit = days\n",
    "        if r =='GASP':\n",
    "            binwidth.append(15.0) #unit = days\n",
    "        if r =='GUPPI':\n",
    "            binwidth.append(6.5) #unit = days\n",
    "       # if r in ['ASP','AO','PUPPI']:\n",
    "        #    binwidth.append(0.5) #unit = days\n",
    "\n",
    "    binwidth = np.array(binwidth) * u.d\n",
    "    prevbinR2 = MJDs[0] - 0.001 * u.d\n",
    "    \n",
    "    while True:\n",
    "        if not np.any(MJDs > prevbinR2):\n",
    "            break\n",
    "        startMJD = MJDs[MJDs > prevbinR2][0]\n",
    "            #takes the first MJD after the end of the previous bin\n",
    "        binidx = np.logical_and(MJDs > prevbinR2, MJDs <= startMJD + binwidth)\n",
    "            #if MJDs > previous bin's MJD and MJD < start, it is its index\n",
    "        if not np.any(binidx):\n",
    "            break\n",
    "        binMJDs = MJDs[binidx]\n",
    "        binfreqs = freqs[binidx]\n",
    "        loMJDs = binMJDs[binfreqs < divide_freq]\n",
    "        hiMJDs = binMJDs[binfreqs >= divide_freq]\n",
    "            # If we have freqs below and above the divide, this is a good bin\n",
    "        if np.any(binfreqs < divide_freq) and np.any(binfreqs > divide_freq):\n",
    "            DMXs.append(dmxrange(list(loMJDs), list(hiMJDs)))\n",
    "        else:\n",
    "                # These TOAs cannot be used\n",
    "            pass\n",
    "        prevbinR2 = binMJDs.max()\n",
    "        \n",
    "        if verbose:\n",
    "            print(\n",
    "                \"\\n These are the good DMX ranges with number of TOAs above/below the dividing freq:\"\n",
    "            )\n",
    "            for DMX in DMXs:\n",
    "                DMX.sum_print()\n",
    "\n",
    "#####********BEGINNING OF [get rid of TOAs if f_max/f_min < 1.1 (inadequate bandwidth)]**********#\n",
    "         \n",
    "        fitter = glsfit\n",
    "        model = fitter.model\n",
    "        mjds = fitter.toas.get_mjds()\n",
    "        freqs = fitter.toas.table[\"freq\"]\n",
    "        ii = 1\n",
    "\n",
    "        while hasattr(model, \"DMX_{:04d}\".format(ii)):\n",
    "            mmask = np.logical_and(\n",
    "                mjds.value > getattr(model, \"DMXR1_{:04d}\".format(ii)).value,\n",
    "                mjds.value < getattr(model, \"DMXR2_{:04d}\".format(ii)).value,\n",
    "            )\n",
    "            if np.any(mmask):\n",
    "                mjds_in_bin = mjds[mmask]\n",
    "                freqs_in_bin = freqs[mmask]\n",
    "                freqratio = freqs_in_bin.max() / freqs_in_bin.min()\n",
    "                if freqratio < 1.1:\n",
    "                # print(\"DMX_{:04d}\".format(ii, mmask.sum(), freqratio))\n",
    "                    model.remove_param(\"DMX_{:04d}\".format(ii,mmask.sum()))                \n",
    "                ii += 1\n",
    "#####********END OF [get rid of TOAs if f_max/f_min < 1.1 (inadequate bandwidth)]**********#\n",
    " \n",
    "        #make the mask\n",
    "        # Init mask to all False\n",
    "        mask = np.zeros_like(MJDs.value, dtype=np.bool)\n",
    "        # Mark TOAs as True if they are in any DMX bin\n",
    "        for DMX in DMXs:\n",
    "            mask[np.logical_and(MJDs >= DMX.min, MJDs <= DMX.max)] = True\n",
    "        log.info(\"{} out of {} TOAs are in a DMX bin\".format(mask.sum(), len(mask)))\n",
    "        #Instantiate a DMX component\n",
    "        dmx_class = Component.component_types[\"DispersionDMX\"]\n",
    "        dmx_comp = dmx_class()\n",
    "        # Add parameters\n",
    "        for ii, DMX in enumerate(DMXs):\n",
    "            if ii == 0:\n",
    "                # Already have DMX_0001 in component, so just set parameters\n",
    "                dmx_comp.DMX_0001.value = 0.0\n",
    "                dmx_comp.DMX_0001.frozen = False\n",
    "                dmx_comp.DMXR1_0001.value = DMX.min.value\n",
    "                dmx_comp.DMXR2_0001.value = DMX.max.value\n",
    "\n",
    "            else:\n",
    "                # Add the DMX parameters\n",
    "                dmx_par = pint.models.parameter.prefixParameter(\n",
    "                    parameter_type=\"float\",\n",
    "                    name=\"DMX_{:04d}\".format(ii + 1),\n",
    "                    value=0.0,\n",
    "                    units=u.pc / u.cm ** 3,\n",
    "                    frozen=False,\n",
    "                )\n",
    "                dmx_comp.add_param(dmx_par, setup=True)\n",
    "\n",
    "                dmxr1_par = pint.models.parameter.prefixParameter(\n",
    "                    parameter_type=\"mjd\",\n",
    "                    name=\"DMXR1_{:04d}\".format(ii + 1),\n",
    "                    value=DMX.min.value,\n",
    "                    units=u.d,\n",
    "                )\n",
    "                dmx_comp.add_param(dmxr1_par, setup=True)\n",
    "\n",
    "                dmxr2_par = pint.models.parameter.prefixParameter(\n",
    "                    parameter_type=\"mjd\",\n",
    "                    name=\"DMXR2_{:04d}\".format(ii + 1),\n",
    "                    value=DMX.max.value,\n",
    "                    units=u.d,\n",
    "                )\n",
    "                dmx_comp.add_param(dmxr2_par, setup=True)\n",
    "            # Validate component\n",
    "            dmx_comp.validate()\n",
    "\n",
    "            return mask, dmx_comp"
   ]
  },
  {
   "cell_type": "code",
   "execution_count": 5,
   "metadata": {},
   "outputs": [
    {
     "name": "stdout",
     "output_type": "stream",
     "text": [
      "\n",
      " These are the good DMX ranges with number of TOAs above/below the dividing freq:\n",
      "INFO: 0 out of 702 TOAs are in a DMX bin [unknown]\n",
      "\n",
      " These are the good DMX ranges with number of TOAs above/below the dividing freq:\n",
      "53420.55-53420.58 (    0.03 d): NLO=    6 NHI=   15\n",
      "INFO: 21 out of 702 TOAs are in a DMX bin [unknown]\n"
     ]
    },
    {
     "data": {
      "text/plain": [
       "(array([False,  True, False, False, False, False, False, False, False,\n",
       "        False, False, False, False, False, False, False, False, False,\n",
       "        False, False, False, False, False, False, False, False, False,\n",
       "        False, False, False, False,  True, False, False, False, False,\n",
       "        False, False, False, False, False, False, False, False, False,\n",
       "        False, False, False, False, False, False, False, False, False,\n",
       "        False, False, False, False, False, False, False, False, False,\n",
       "        False, False, False, False, False,  True, False, False, False,\n",
       "        False, False, False, False, False, False, False, False, False,\n",
       "        False, False, False, False, False, False, False, False, False,\n",
       "        False, False, False, False, False, False, False, False, False,\n",
       "        False, False, False, False, False,  True, False, False, False,\n",
       "        False, False, False, False, False, False, False, False, False,\n",
       "        False, False, False, False, False, False, False, False, False,\n",
       "        False, False, False, False, False, False, False, False, False,\n",
       "        False, False, False, False, False, False,  True, False, False,\n",
       "        False, False, False, False, False, False, False, False, False,\n",
       "        False, False, False, False, False, False, False, False, False,\n",
       "        False, False, False, False, False, False, False, False, False,\n",
       "        False, False, False, False, False, False, False,  True, False,\n",
       "        False, False, False, False, False, False, False, False, False,\n",
       "        False, False, False, False, False, False, False, False, False,\n",
       "        False, False, False, False, False, False, False, False, False,\n",
       "        False, False, False, False, False, False, False, False, False,\n",
       "        False, False, False, False, False, False, False, False, False,\n",
       "        False, False, False, False, False, False, False, False, False,\n",
       "        False, False, False, False,  True, False, False, False, False,\n",
       "        False, False, False, False, False, False, False, False, False,\n",
       "        False, False, False, False, False, False, False, False, False,\n",
       "        False, False, False, False, False, False, False, False,  True,\n",
       "        False, False, False, False, False, False, False, False, False,\n",
       "        False, False, False, False, False, False, False, False, False,\n",
       "        False, False, False, False, False, False, False, False, False,\n",
       "        False, False, False,  True, False, False, False, False, False,\n",
       "        False, False, False, False, False, False, False, False, False,\n",
       "        False, False, False, False, False, False, False, False, False,\n",
       "        False, False, False, False, False, False, False,  True, False,\n",
       "        False, False, False, False, False, False, False, False, False,\n",
       "        False, False, False, False, False, False, False, False, False,\n",
       "        False, False, False, False, False, False, False, False, False,\n",
       "        False, False, False,  True, False, False, False, False, False,\n",
       "        False, False, False, False, False, False, False, False, False,\n",
       "        False, False, False, False, False, False, False, False, False,\n",
       "        False, False, False, False, False, False, False, False,  True,\n",
       "        False, False, False, False, False, False, False, False, False,\n",
       "        False, False, False, False, False, False, False, False, False,\n",
       "        False, False, False, False, False, False, False, False, False,\n",
       "        False, False,  True, False, False, False, False, False, False,\n",
       "        False, False, False, False, False, False, False, False, False,\n",
       "        False, False, False, False, False, False, False, False, False,\n",
       "        False, False, False, False, False, False, False,  True, False,\n",
       "        False, False, False, False, False, False, False, False, False,\n",
       "        False, False, False, False, False, False, False, False, False,\n",
       "        False, False, False, False, False, False, False, False, False,\n",
       "        False, False, False,  True, False, False, False, False, False,\n",
       "        False, False, False, False, False, False, False, False, False,\n",
       "        False, False, False, False, False, False, False, False, False,\n",
       "        False, False, False, False, False, False, False, False,  True,\n",
       "        False, False, False, False, False, False, False, False, False,\n",
       "        False, False, False, False, False, False, False, False, False,\n",
       "        False, False, False, False, False, False, False, False, False,\n",
       "        False, False, False, False,  True, False, False, False, False,\n",
       "        False, False, False, False, False, False, False, False, False,\n",
       "        False, False, False, False, False, False, False, False, False,\n",
       "        False, False, False, False, False, False, False, False,  True,\n",
       "        False, False, False, False, False, False, False, False, False,\n",
       "        False, False, False, False, False, False, False, False, False,\n",
       "        False, False, False, False, False, False, False, False, False,\n",
       "        False, False,  True, False, False, False, False, False, False,\n",
       "        False, False, False, False, False, False, False, False, False,\n",
       "        False, False, False, False, False, False, False, False, False,\n",
       "        False, False, False, False, False, False, False,  True, False,\n",
       "        False, False, False, False, False, False, False, False, False,\n",
       "        False, False, False, False, False, False, False, False, False,\n",
       "        False, False, False, False, False, False, False, False, False,\n",
       "        False, False,  True, False, False, False, False, False, False,\n",
       "        False, False, False, False, False, False, False, False, False,\n",
       "        False, False, False, False, False, False, False, False, False]),\n",
       " DispersionDMX(\n",
       "     floatParameter( DMX             0.0               (pc / cm3) frozen=True),\n",
       "     floatParameter( DMX_0001        0.0               (pc / cm3) frozen=False),\n",
       "     MJDParameter(   DMXR1_0001      53420.5531579998932985 (d) frozen=True),\n",
       "     MJDParameter(   DMXR2_0001      53420.5819246120736341 (d) frozen=True)))"
      ]
     },
     "execution_count": 5,
     "metadata": {},
     "output_type": "execute_result"
    }
   ],
   "source": [
    "dmx_trial_receiver_and_frequency(ts1855, verbose = True)"
   ]
  },
  {
   "cell_type": "code",
   "execution_count": null,
   "metadata": {},
   "outputs": [],
   "source": []
  },
  {
   "cell_type": "code",
   "execution_count": null,
   "metadata": {},
   "outputs": [],
   "source": []
  },
  {
   "cell_type": "code",
   "execution_count": null,
   "metadata": {},
   "outputs": [],
   "source": []
  },
  {
   "cell_type": "code",
   "execution_count": null,
   "metadata": {},
   "outputs": [],
   "source": []
  },
  {
   "cell_type": "code",
   "execution_count": null,
   "metadata": {},
   "outputs": [],
   "source": []
  },
  {
   "cell_type": "code",
   "execution_count": null,
   "metadata": {},
   "outputs": [],
   "source": []
  }
 ],
 "metadata": {
  "kernelspec": {
   "display_name": "Python 3",
   "language": "python",
   "name": "python3"
  },
  "language_info": {
   "codemirror_mode": {
    "name": "ipython",
    "version": 3
   },
   "file_extension": ".py",
   "mimetype": "text/x-python",
   "name": "python",
   "nbconvert_exporter": "python",
   "pygments_lexer": "ipython3",
   "version": "3.8.3"
  }
 },
 "nbformat": 4,
 "nbformat_minor": 2
}
